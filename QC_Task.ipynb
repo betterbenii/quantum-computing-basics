{
  "cells": [
    {
      "cell_type": "markdown",
      "metadata": {
        "id": "uLZhjEjb8a8l"
      },
      "source": [
        "# **Task 1: Forced Superposition**\n",
        "Create a circuit with 2 qubits where\n",
        "\n",
        "Qubit 0 is in state |+⟩ (superposition of |0⟩ and |1⟩).\n",
        "\n",
        "Qubit 1 is in state |1⟩.\n",
        "\n",
        "Entangle them so that measuring Qubit 0 always gives the opposite result of Qubit 1.\n",
        "\n",
        "Verify with 1000 shots and plot the counts.\n",
        "\n",
        "Hint: Use H, CX, and X gates.\n"
      ]
    },
    {
      "cell_type": "code",
      "execution_count": 1,
      "metadata": {
        "id": "ZeWD4SAI7hZd"
      },
      "outputs": [
        {
          "data": {
            "text/html": [
              "<pre style=\"word-wrap: normal;white-space: pre;background: #fff0;line-height: 1.1;font-family: &quot;Courier New&quot;,Courier,monospace\">        ┌───┐      ░ ┌─┐   \n",
              "   q_0: ┤ H ├──■───░─┤M├───\n",
              "        ├───┤┌─┴─┐ ░ └╥┘┌─┐\n",
              "   q_1: ┤ X ├┤ X ├─░──╫─┤M├\n",
              "        └───┘└───┘ ░  ║ └╥┘\n",
              "meas: 2/══════════════╩══╩═\n",
              "                      0  1 </pre>"
            ],
            "text/plain": [
              "        ┌───┐      ░ ┌─┐   \n",
              "   q_0: ┤ H ├──■───░─┤M├───\n",
              "        ├───┤┌─┴─┐ ░ └╥┘┌─┐\n",
              "   q_1: ┤ X ├┤ X ├─░──╫─┤M├\n",
              "        └───┘└───┘ ░  ║ └╥┘\n",
              "meas: 2/══════════════╩══╩═\n",
              "                      0  1 "
            ]
          },
          "execution_count": 1,
          "metadata": {},
          "output_type": "execute_result"
        }
      ],
      "source": [
        "import qiskit\n",
        "from qiskit.visualization import plot_histogram\n",
        "from qiskit_aer.primitives import SamplerV2\n",
        "\n",
        "# Create a Quantum Circuit with 2 qubits\n",
        "qc = qiskit.QuantumCircuit(2)\n",
        "\n",
        "# Prepare Qubit 0 in |+⟩ state\n",
        "qc.h(0)\n",
        "\n",
        "# Prepare Qubit 1 in |1⟩ state\n",
        "qc.x(1)\n",
        "\n",
        "# Entangle the qubits\n",
        "qc.cx(0, 1)\n",
        "\n",
        "# Measure all qubits\n",
        "qc.measure_all()\n",
        "\n",
        "# Visualize the circuit\n",
        "qc.draw()\n",
        "\n",
        "\n"
      ]
    },
    {
      "cell_type": "code",
      "execution_count": 2,
      "metadata": {},
      "outputs": [
        {
          "name": "stdout",
          "output_type": "stream",
          "text": [
            "Counts(ideal): {'10': 508, '01': 492}\n"
          ]
        },
        {
          "data": {
            "image/png": "[encoded data removed]",
            "text/plain": [
              "<Figure size 640x480 with 1 Axes>"
            ]
          },
          "execution_count": 2,
          "metadata": {},
          "output_type": "execute_result"
        }
      ],
      "source": [
        "import matplotlib.pyplot as plt\n",
        "sampler = SamplerV2()\n",
        "job = sampler.run([qc], shots=1000)\n",
        "\n",
        "# Get the result\n",
        "result_ideal = job.result()\n",
        "counts_ideal = result_ideal[0].data.meas.get_counts()\n",
        "\n",
        "# Print the ideal measurement results\n",
        "print('Counts(ideal):', counts_ideal)\n",
        "\n",
        "# Visualize the results\n",
        "plot_histogram(counts_ideal)\n"
      ]
    },
    {
      "cell_type": "markdown",
      "metadata": {
        "id": "4GYksZN985lJ"
      },
      "source": [
        "# **Task 2: Entanglement Witness**\n",
        "Build a circuit to test if two qubits are entangled:\n",
        "\n",
        "Prepare a Bell state (|00⟩ + |11⟩)/√2.\n",
        "\n",
        "Add a probabilistic error: With 20% chance, apply an X gate to one qubit.\n",
        "\n",
        "Measure just one qubit 1000 times. Is the output random (50/50)? If not, the qubits are no longer entangled.\n",
        "\n",
        "Goal: Show that entanglement breaks if you modify one qubit."
      ]
    },
    {
      "cell_type": "code",
      "execution_count": 3,
      "metadata": {
        "id": "QrXwXvkx9F4J"
      },
      "outputs": [
        {
          "data": {
            "text/html": [
              "<pre style=\"word-wrap: normal;white-space: pre;background: #fff0;line-height: 1.1;font-family: &quot;Courier New&quot;,Courier,monospace\">        ┌───┐      ░ ┌─┐   \n",
              "   q_0: ┤ H ├──■───░─┤M├───\n",
              "        └───┘┌─┴─┐ ░ └╥┘┌─┐\n",
              "   q_1: ─────┤ X ├─░──╫─┤M├\n",
              "             └───┘ ░  ║ └╥┘\n",
              "meas: 2/══════════════╩══╩═\n",
              "                      0  1 </pre>"
            ],
            "text/plain": [
              "        ┌───┐      ░ ┌─┐   \n",
              "   q_0: ┤ H ├──■───░─┤M├───\n",
              "        └───┘┌─┴─┐ ░ └╥┘┌─┐\n",
              "   q_1: ─────┤ X ├─░──╫─┤M├\n",
              "             └───┘ ░  ║ └╥┘\n",
              "meas: 2/══════════════╩══╩═\n",
              "                      0  1 "
            ]
          },
          "execution_count": 3,
          "metadata": {},
          "output_type": "execute_result"
        }
      ],
      "source": [
        "import qiskit\n",
        "import numpy as np\n",
        "from qiskit.visualization import plot_histogram\n",
        "from qiskit_aer.primitives import SamplerV2\n",
        "\n",
        "\n",
        "# Create a Quantum Circuit with 2 qubits\n",
        "qc = qiskit.QuantumCircuit(2)\n",
        "\n",
        "# Prepare a Bell state\n",
        "qc.h(0)\n",
        "qc.cx(0, 1)\n",
        "\n",
        "# Introduce a probabilistic error\n",
        "if np.random.rand() < 0.2:\n",
        "    qc.x(0)  # Apply X gate with 20% probability\n",
        "\n",
        "# Measure all qubits\n",
        "qc.measure_all()\n",
        "\n",
        "# Visualize the circuit\n",
        "qc.draw()\n",
        "\n"
      ]
    },
    {
      "cell_type": "code",
      "execution_count": 4,
      "metadata": {},
      "outputs": [
        {
          "name": "stdout",
          "output_type": "stream",
          "text": [
            "Counts(ideal): {'00': 498, '11': 502}\n"
          ]
        },
        {
          "data": {
            "image/png": "[encoded data removed]",
            "text/plain": [
              "<Figure size 640x480 with 1 Axes>"
            ]
          },
          "execution_count": 4,
          "metadata": {},
          "output_type": "execute_result"
        }
      ],
      "source": [
        "# Use SamplerV2 for simulation\n",
        "sampler = SamplerV2()\n",
        "job = sampler.run([qc], shots=1000)\n",
        "\n",
        "# Get the result\n",
        "result_ideal = job.result()\n",
        "counts_ideal = result_ideal[0].data.meas.get_counts()\n",
        "\n",
        "# Print the ideal measurement results\n",
        "print('Counts(ideal):', counts_ideal)\n",
        "\n",
        "# Visualize the results\n",
        "plot_histogram(counts_ideal)\n"
      ]
    },
    {
      "cell_type": "markdown",
      "metadata": {
        "id": "PdFkqDDO9zyk"
      },
      "source": [
        "# **Task 3: Opposite-Measurement Entanglement**\n",
        "Goal: Create a circuit where two qubits are entangled such that measuring one always gives the opposite result of the other (e.g., if Qubit 0 is 0, Qubit 1 must be 1, and vice versa).\n",
        "\n",
        "**Expected Output**\n",
        "\n",
        "After 1000 shots, the histogram should show only 01 and 10 (never 00 or 11)."
      ]
    },
    {
      "cell_type": "code",
      "execution_count": 5,
      "metadata": {
        "id": "Vai-e3uL-D2t"
      },
      "outputs": [
        {
          "name": "stdout",
          "output_type": "stream",
          "text": [
            "Counts(ideal): {'10': 510, '01': 490}\n"
          ]
        },
        {
          "data": {
            "image/png": "[encoded data removed]",
            "text/plain": [
              "<Figure size 640x480 with 1 Axes>"
            ]
          },
          "execution_count": 5,
          "metadata": {},
          "output_type": "execute_result"
        }
      ],
      "source": [
        "import qiskit\n",
        "from qiskit.visualization import plot_histogram\n",
        "from qiskit_aer.primitives import SamplerV2\n",
        "import matplotlib.pyplot as plt\n",
        "\n",
        "# Create a Quantum Circuit with 2 qubits\n",
        "qc = qiskit.QuantumCircuit(2)\n",
        "\n",
        "# Prepare Qubit 0 in |+⟩ state\n",
        "qc.h(0)\n",
        "\n",
        "# Prepare Qubit 1 in |1⟩ state\n",
        "qc.x(1)\n",
        "\n",
        "# Entangle the qubits\n",
        "qc.cx(0, 1)\n",
        "\n",
        "# Measure all qubits\n",
        "qc.measure_all()\n",
        "\n",
        "# Visualize the circuit\n",
        "qc.draw()\n",
        "\n",
        "# Use SamplerV2 for simulation\n",
        "sampler = SamplerV2()\n",
        "job = sampler.run([qc], shots=1000)\n",
        "\n",
        "# Get the result\n",
        "result_ideal = job.result()\n",
        "counts_ideal = result_ideal[0].data.meas.get_counts()\n",
        "\n",
        "# Print the ideal measurement results\n",
        "print('Counts(ideal):', counts_ideal)\n",
        "\n",
        "# Visualize the results\n",
        "plot_histogram(counts_ideal)\n"
      ]
    },
    {
      "cell_type": "markdown",
      "metadata": {
        "id": "tEgvqg93800r"
      },
      "source": [
        "# **Task 4: Quantum Coin Flip Game**\n",
        "Simulate a game where:\n",
        "\n",
        "Alice prepares a qubit in |+⟩ and sends it to Bob.\n",
        "\n",
        "Bob randomly chooses to measure it in the X-basis (|+⟩/|-⟩) or Z-basis (|0⟩/|1⟩).\n",
        "\n",
        "If Bob measures |+⟩ or |0⟩, he wins; else, Alice wins.\n",
        "\n",
        "Run 500 trials and calculate the win rates.\n",
        "\n",
        "Twist: Let Bob entangle his measurement choice with another qubit. Does this change the odds?"
      ]
    },
    {
      "cell_type": "code",
      "execution_count": 12,
      "metadata": {
        "id": "NjUI8DVJ-Ep6"
      },
      "outputs": [
        {
          "name": "stdout",
          "output_type": "stream",
          "text": [
            "Counts(ideal): {'00': 235, '01': 265}\n",
            "Bob's win rate: 47.00%\n",
            "Alice's win rate: 53.00%\n"
          ]
        }
      ],
      "source": [
        "import qiskit\n",
        "from qiskit.visualization import plot_histogram\n",
        "from qiskit_aer.primitives import SamplerV2\n",
        "import matplotlib.pyplot as plt\n",
        "import random\n",
        "\n",
        "# Create a Quantum Circuit with 2 qubits\n",
        "qc = qiskit.QuantumCircuit(2)\n",
        "\n",
        "# Alice prepares a qubit in |+⟩ state\n",
        "qc.h(0)\n",
        "\n",
        "# Bob randomly chooses to measure in X-basis or Z-basis\n",
        "if random.choice(['X', 'Z']) == 'X':\n",
        "    qc.h(0)  # Change basis to X-basis\n",
        "\n",
        "# Measure all qubits\n",
        "qc.measure_all()\n",
        "\n",
        "# Visualize the circuit\n",
        "qc.draw()\n",
        "\n",
        "# Use SamplerV2 for simulation\n",
        "sampler = SamplerV2()\n",
        "job = sampler.run([qc], shots=500)\n",
        "\n",
        "# Get the result\n",
        "result_ideal = job.result()\n",
        "counts_ideal = result_ideal[0].data.meas.get_counts()\n",
        "\n",
        "# Print the ideal measurement results\n",
        "print('Counts(ideal):', counts_ideal)\n",
        "\n",
        "# Visualize the results\n",
        "plot_histogram(counts_ideal)\n",
        "plt.show()\n",
        "\n",
        "# Calculate win rates based on measurement basis and outcome\n",
        "bob_wins = counts_ideal.get('00', 0)  # Count when Bob measures 0\n",
        "alice_wins = counts_ideal.get('01', 0) + counts_ideal.get('10', 0) + counts_ideal.get('11', 0)\n",
        "print(f\"Bob's win rate: {bob_wins / 500 * 100:.2f}%\")\n",
        "print(f\"Alice's win rate: {alice_wins / 500 * 100:.2f}%\")"
      ]
    },
    {
      "cell_type": "markdown",
      "metadata": {},
      "source": [
        "## Answer for the twist:"
      ]
    },
    {
      "cell_type": "code",
      "execution_count": null,
      "metadata": {},
      "outputs": [
        {
          "name": "stdout",
          "output_type": "stream",
          "text": [
            "Bob's win rate: 24.80%\n",
            "Alice's win rate: 75.20%\n"
          ]
        }
      ],
      "source": [
        "# Create a Quantum Circuit with 3 qubits\n",
        "qc = qiskit.QuantumCircuit(3)\n",
        "\n",
        "# Alice prepares qubit 0 in |+⟩ state\n",
        "qc.h(0)\n",
        "\n",
        "# Bob entangles his measurement choice (qubit 2) with qubit 1\n",
        "qc.h(2)  # Put measurement choice in superposition\n",
        "qc.cx(2, 1)  # Entangle measurement choice with another qubit\n",
        "\n",
        "# Decomposition of controlled-H gate:\n",
        "# If control qubit (2) is |1⟩, applies H to target qubit (0)\n",
        "# This makes Bob's measurement basis (X/Z) quantum controlled\n",
        "qc.h(0)\n",
        "qc.sdg(0)\n",
        "qc.cx(2, 0)\n",
        "qc.h(0)\n",
        "qc.t(0)\n",
        "qc.cx(2, 0)\n",
        "qc.t(0)\n",
        "qc.h(0)\n",
        "qc.s(0)\n",
        "\n",
        "qc.measure_all()\n",
        "\n",
        "# Run simulation with 500 shots\n",
        "sampler = SamplerV2()\n",
        "job = sampler.run([qc], shots=500)\n",
        "result_ideal = job.result()\n",
        "counts_ideal = result_ideal[0].data.meas.get_counts()\n",
        "\n",
        "# Calculate win rates (Bob wins on measuring 0 in either basis)\n",
        "bob_wins = sum(counts_ideal.get(x, 0) for x in ['000', '100'])\n",
        "alice_wins = 500 - bob_wins\n",
        "\n",
        "print(f\"Bob's win rate: {bob_wins / 500 * 100:.2f}%\")\n",
        "print(f\"Alice's win rate: {alice_wins / 500 * 100:.2f}%\")"
      ]
    },
    {
      "cell_type": "markdown",
      "metadata": {
        "id": "-BvG01QS9LKz"
      },
      "source": [
        "# Essay Question\n",
        "\n",
        "Explain how entanglement and superposition enable quantum speedups, using examples from the tasks above (e.g., Task 1’s forced superposition or Task 2’s Bell state). Why can’t classical systems replicate this behavior?"
      ]
    },
    {
      "cell_type": "markdown",
      "metadata": {
        "id": "1dpbPhkm9Po2"
      },
      "source": [
        "Quantum speedups arise from two key phenomena we explored in our tasks. In Task 1, superposition let us place a qubit in the |+⟩ state, simultaneously exploring both 0 and 1 states. When we added entanglement in Task 2's Bell state, changes to one qubit instantly affected its partner - something impossible in classical bits.\n",
        "\n",
        "Classical computers must process states sequentially, checking each possibility one at a time. But quantum systems use superposition to process multiple states at once, while entanglement creates correlated outcomes across qubits. This parallel processing of correlated states gives quantum algorithms their edge. For example, our Bell state demonstrated perfect correlations between measurements, whereas classical bits would need explicit communication to achieve similar coordination.\n",
        "\n",
        "These quantum effects can't be replicated classically because they fundamentally violate classical physics - no classical system can exist in multiple states simultaneously or exhibit instantaneous correlations across distance."
      ]
    }
  ],
  "metadata": {
    "colab": {
      "provenance": []
    },
    "kernelspec": {
      "display_name": "venv",
      "language": "python",
      "name": "python3"
    },
    "language_info": {
      "codemirror_mode": {
        "name": "ipython",
        "version": 3
      },
      "file_extension": ".py",
      "mimetype": "text/x-python",
      "name": "python",
      "nbconvert_exporter": "python",
      "pygments_lexer": "ipython3",
      "version": "3.13.1"
    }
  },
  "nbformat": 4,
  "nbformat_minor": 0
}
